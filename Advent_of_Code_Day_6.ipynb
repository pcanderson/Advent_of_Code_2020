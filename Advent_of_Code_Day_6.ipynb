{
 "cells": [
  {
   "cell_type": "markdown",
   "metadata": {},
   "source": [
    "# --- Day 6: Custom Customs ---\n",
    "\n",
    "As your flight approaches the regional airport where you'll switch to a much larger plane, customs declaration forms are distributed to the passengers.\n",
    "\n",
    "The form asks a series of 26 yes-or-no questions marked a through z. All you need to do is identify the questions for which anyone in your group answers \"yes\". Since your group is just you, this doesn't take very long.\n",
    "\n",
    "However, the person sitting next to you seems to be experiencing a language barrier and asks if you can help. For each of the people in their group, you write down the questions for which they answer \"yes\", one per line. For example:\n",
    "\n",
    "    abcx\n",
    "    abcy\n",
    "    abcz\n",
    "\n",
    "In this group, there are 6 questions to which anyone answered \"yes\": a, b, c, x, y, and z. (Duplicate answers to the same question don't count extra; each question counts at most once.)\n",
    "\n",
    "Another group asks for your help, then another, and eventually you've collected answers from every group on the plane (your puzzle input). Each group's answers are separated by a blank line, and within each group, each person's answers are on a single line. For example:\n",
    "\n",
    "    abc\n",
    "\n",
    "    a\n",
    "    b\n",
    "    c\n",
    "\n",
    "    ab\n",
    "    ac\n",
    "\n",
    "    a\n",
    "    a\n",
    "    a\n",
    "    a\n",
    "\n",
    "    b\n",
    "\n",
    "This list represents answers from five groups:\n",
    "\n",
    "    The first group contains one person who answered \"yes\" to 3 questions: a, b, and c.\n",
    "    The second group contains three people; combined, they answered \"yes\" to 3 questions: a, b, and c.\n",
    "    The third group contains two people; combined, they answered \"yes\" to 3 questions: a, b, and c.\n",
    "    The fourth group contains four people; combined, they answered \"yes\" to only 1 question, a.\n",
    "    The last group contains one person who answered \"yes\" to only 1 question, b.\n",
    "\n",
    "In this example, the sum of these counts is 3 + 3 + 3 + 1 + 1 = 11.\n",
    "\n",
    "For each group, count the number of questions to which anyone answered \"yes\". What is the sum of those counts?\n"
   ]
  },
  {
   "cell_type": "code",
   "execution_count": 49,
   "metadata": {
    "scrolled": false
   },
   "outputs": [
    {
     "name": "stdout",
     "output_type": "stream",
     "text": [
      "Sum Union Set: 6683\n",
      "Sum Intersection Set: 3122\n"
     ]
    }
   ],
   "source": [
    "import os\n",
    "\n",
    "with open('day6_input.txt') as f:\n",
    "    forms = f.read().strip().split('\\n\\n')\n",
    "forms_sets = [set(form.split()) for form in forms]   \n",
    "\n",
    "# Part 1\n",
    "union_sets = []\n",
    "for set_group in forms_sets:\n",
    "#     print(set_group)\n",
    "    combined_set = set()\n",
    "    for entry in set_group:\n",
    "        combined_set.update(entry)\n",
    "    union_sets.append(combined_set)\n",
    "#     print(combined_set)\n",
    "# print(union_sets)\n",
    "\n",
    "print(f'Sum Union Set: {sum([len(theset) for theset in union_sets])}')\n",
    "\n",
    "# Part 2\n",
    "intersect_sets = []\n",
    "for set_group in forms_sets:\n",
    "    intersect_sets.append(set.intersection(*(set(s) for s in set_group)))\n",
    "# print(intersect_sets)\n",
    "print(f'Sum Intersection Set: {sum([len(theset) for theset in intersect_sets])}')"
   ]
  },
  {
   "cell_type": "code",
   "execution_count": null,
   "metadata": {},
   "outputs": [],
   "source": []
  },
  {
   "cell_type": "code",
   "execution_count": null,
   "metadata": {},
   "outputs": [],
   "source": []
  }
 ],
 "metadata": {
  "kernelspec": {
   "display_name": "Python 3",
   "language": "python",
   "name": "python3"
  },
  "language_info": {
   "codemirror_mode": {
    "name": "ipython",
    "version": 3
   },
   "file_extension": ".py",
   "mimetype": "text/x-python",
   "name": "python",
   "nbconvert_exporter": "python",
   "pygments_lexer": "ipython3",
   "version": "3.8.5"
  }
 },
 "nbformat": 4,
 "nbformat_minor": 4
}
